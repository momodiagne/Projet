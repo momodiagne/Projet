{
 "cells": [
  {
   "cell_type": "code",
   "execution_count": 19,
   "metadata": {},
   "outputs": [
    {
     "name": "stdout",
     "output_type": "stream",
     "text": [
      "Prenom: Momo\n",
      "Nom: Diagne\n",
      "Age: 10\n",
      "Entrez votre destination: Ghana\n",
      "Aller simple / Aller retour: aller retour\n",
      "Classe: VIP/Standard): VIP\n",
      "Gouter:y or n): y\n",
      "Plat: thiebou yapp\n",
      "Bienvenue au  Ghana , le pays compte  32.83 millions d'habitants, ce temps ci il fait  28  degré et c'est  la saison des pluies\n"
     ]
    }
   ],
   "source": [
    "zone = {\"Afrique\": [\"Ghana\", \"Nigeria\", \"Burkina\"],\n",
    "        \"Europe\": [\"France\", \"Belgique\", \"Italie\"],\n",
    "        \"Amerique\": [\"Usa\", \"Peru\", \"Cuba\"]}\n",
    "destinations = {\"Ghana\": {\"Populations\": 32.83, \"temperature\": 28, \"saison\": \"la saison des pluies\"},\n",
    "                \"Nigeria\": {\"Populations\": 213.4, \"temperature\": 27, \"saison\": \"la saison des pluies\"},\n",
    "                \"Burkina\": {\"Populations\": 22.1, \"temperature\": 30, \"saison\": \"la saison seche\"},\n",
    "                \"France\": {\"Populations\": 67.75, \"temperature\": 11, \"saison\": \"le printemps\"},\n",
    "                \"Belgique\": {\"Populations\": 11.59, \"temperature\": 9, \"saison\": \"le printemps\"},\n",
    "                \"Italie\": {\"Populations\": 59.11, \"temperature\": 11, \"saison\": \"le printemps\"},\n",
    "                \"Usa\": {\"Populations\": 331.9, \"temperature\": 19, \"saison\": \"le printemps\"},\n",
    "                \"Peru\": {\"Populations\": 33.72, \"temperature\": 24, \"saison\": \"la saison des pluies\"},\n",
    "                \"Cuba\": {\"Populations\": 11.26, \"temperature\": 24, \"saison\": \"la saison séche\"}}\n",
    "prenom = input(\"Prenom: \")\n",
    "nom = input(\"Nom: \")\n",
    "age = int(input(\"Age: \"))\n",
    "while True:\n",
    "    destination = input(\"Entrez votre destination: \")\n",
    "    if destination in destinations:\n",
    "        break\n",
    "    else:\n",
    "        print(\"Destination non disponible\")\n",
    "tarif_aller_simple = 2000\n",
    "tarif_aller_retour = 1800\n",
    "\n",
    "while True:\n",
    "    billet = input(\"Aller simple / Aller retour: \")\n",
    "    if billet != \"aller simple\" and billet != \"aller retour\":\n",
    "        print(\"Billet non disponible\")\n",
    "    else:\n",
    "        break\n",
    "if billet == \"aller simple\":\n",
    "    tarif = tarif_aller_simple\n",
    "else:\n",
    "    tarif = tarif_aller_retour\n",
    "\n",
    "while True:\n",
    "    classe = input(\"Classe: VIP/Standard): \")\n",
    "    if classe != \"VIP\" and classe != \"Standard\":\n",
    "        print(\"Classe non disponible\")\n",
    "    else:\n",
    "        break\n",
    "if classe == \"VIP\":\n",
    "    tarif+= 100\n",
    "    \n",
    "goûter = input(\"Gouter:y or n): \")\n",
    "if goûter == \"y\":\n",
    "    nourriture = {\"thiebou yapp\": 30, \"neen bakhaal\": 50, \"soup\": 60, \"ndambé\": 40}\n",
    "    while True:\n",
    "        plat = input(\"Plat: \")\n",
    "        if plat not in nourriture:\n",
    "            print(\"Plat non disponible\")\n",
    "        else:\n",
    "            tarif += nourriture[plat]\n",
    "            break\n",
    "    \n",
    "for i in zone:\n",
    "    if destination in zone[\"Amerique\"]:\n",
    "        tarif *= 1.1\n",
    "    elif destination in zone[\"Afrique\"]:\n",
    "        tarif *= 650\n",
    "\n",
    "print(\"Bienvenue au \",destination,\", le pays compte \",destinations[destination][\"Populations\"],\"millions d'habitants, ce temps ci il fait \",destinations[destination][\"temperature\"],\" degré et c'est \",destinations[destination][\"saison\"])"
   ]
  },
  {
   "cell_type": "code",
   "execution_count": null,
   "metadata": {},
   "outputs": [],
   "source": [
    "\n"
   ]
  },
  {
   "cell_type": "code",
   "execution_count": null,
   "metadata": {},
   "outputs": [],
   "source": []
  }
 ],
 "metadata": {
  "kernelspec": {
   "display_name": "Python 3",
   "language": "python",
   "name": "python3"
  },
  "language_info": {
   "codemirror_mode": {
    "name": "ipython",
    "version": 3
   },
   "file_extension": ".py",
   "mimetype": "text/x-python",
   "name": "python",
   "nbconvert_exporter": "python",
   "pygments_lexer": "ipython3",
   "version": "3.8.10"
  }
 },
 "nbformat": 4,
 "nbformat_minor": 4
}
